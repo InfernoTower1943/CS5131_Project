{
 "cells": [
  {
   "attachments": {},
   "cell_type": "markdown",
   "metadata": {},
   "source": [
    "# Regression Models\n",
    "#### The regression models below use our model's results to produce the intended product: a generator to generate an in-game room setup based on the dimensions of the room and the location of the door.\n",
    "#### The setup includes multiple tables and chairs predicted with the regression models.\n"
   ]
  },
  {
   "attachments": {},
   "cell_type": "markdown",
   "metadata": {},
   "source": [
    "### Categorising the Dataset\n",
    "##### After obtaining the results of the object detection from the MR-CNN model, we categorise the results. We use the door, table and chair class results and organise them in a dataset for further processing."
   ]
  },
  {
   "attachments": {},
   "cell_type": "markdown",
   "metadata": {},
   "source": [
    "### Predicting the Tables\n",
    "##### From the dataset, we use the door, table and chair locations to predict new room setups based on a given door location. In the first step, we generate multiple tables based on a location of the door, which is on the edge of the room."
   ]
  },
  {
   "cell_type": "code",
   "execution_count": 33,
   "metadata": {},
   "outputs": [
    {
     "name": "stdout",
     "output_type": "stream",
     "text": [
      "[59 67 75 70]\n"
     ]
    }
   ],
   "source": [
    "import numpy as np\n",
    "from sklearn.ensemble import RandomForestRegressor\n",
    "from sklearn.multioutput import MultiOutputRegressor\n",
    "\n",
    "# Create a sample dataset with 3 rooms\n",
    "# Each room has a door on the left edge (x=0) and 2 tables at random locations\n",
    "# The room width and height are also random\n",
    "# The first 4 columns represent the input features (door_x, door_y, room_width, room_height)\n",
    "# The last 4 columns represent the target variables (table_1_x, table_1_y, table_2_x, table_2_y)\n",
    "dataset = np.zeros((3, 8))\n",
    "for i in range(3):\n",
    "    door_y = np.random.randint(0, 100)\n",
    "    room_width = np.random.randint(100, 200)\n",
    "    room_height = np.random.randint(100, 200)\n",
    "    dataset[i, 0] = 0 # door_x is always 0\n",
    "    dataset[i, 1] = door_y\n",
    "    dataset[i, 2] = room_width\n",
    "    dataset[i, 3] = room_height\n",
    "    for j in range(2):\n",
    "        table_x = np.random.randint(50, room_width - 50)\n",
    "        table_y = np.random.randint(50, room_height - 50)\n",
    "        dataset[i, j*2+4] = table_x\n",
    "        dataset[i, j*2+5] = table_y\n",
    "\n",
    "# Train a random forest regressor with MultiOutputRegressor\n",
    "x_train = dataset[:, :4]\n",
    "y_train = dataset[:, 4:]\n",
    "regr = RandomForestRegressor()\n",
    "multi_regressor = MultiOutputRegressor(regr)\n",
    "multi_regressor.fit(x_train, y_train)\n",
    "\n",
    "# Predict the coordinates of tables in a new room\n",
    "new_room = np.array([[0, 0, 150, 150]]) # door_x, door_y, room_width, room_height\n",
    "table_location = np.round(multi_regressor.predict(new_room)).astype(int)\n",
    "print(table_location[0])\n"
   ]
  },
  {
   "attachments": {},
   "cell_type": "markdown",
   "metadata": {},
   "source": [
    "### Predicting the Chairs\n",
    "##### Using the table locations we have predicted above for each room, we predict one chair location for each table, to represent an actual chair in the in-game room setup."
   ]
  },
  {
   "cell_type": "code",
   "execution_count": 34,
   "metadata": {},
   "outputs": [
    {
     "name": "stdout",
     "output_type": "stream",
     "text": [
      "[array([30.25, 31.25]), array([35., 36.])]\n"
     ]
    }
   ],
   "source": [
    "from sklearn.linear_model import LinearRegression\n",
    "chair_table = np.array([[(1, 2), (4, 5)],\n",
    "                    [(2, 3), (6, 7),],\n",
    "                    [(3, 4), (8, 9)],\n",
    "                    [(4, 5), (10, 11)],\n",
    "                    [(5, 6), (12, 13)]])\n",
    "chair_locations = chair_table[:, 0]\n",
    "table_locations = chair_table[:, 1]\n",
    "model_table_to_chair = LinearRegression()\n",
    "model_table_to_chair.fit(table_locations, chair_locations)\n",
    "\n",
    "#print(table_location)\n",
    "#print(table_location[:2])\n",
    "predicted_chair_locations = [model_table_to_chair.predict(table_location[0][:2].reshape(1, -1))[0],\n",
    "                             model_table_to_chair.predict(table_location[0][2:].reshape(1, -1))[0]]\n",
    "print(predicted_chair_locations)"
   ]
  },
  {
   "attachments": {},
   "cell_type": "markdown",
   "metadata": {},
   "source": [
    "### Visualisation\n",
    "##### We plot our results on a graph for a better visual understanding."
   ]
  },
  {
   "cell_type": "code",
   "execution_count": 35,
   "metadata": {},
   "outputs": [
    {
     "data": {
      "image/png": "[encoded data removed]",
      "text/plain": [
       "<Figure size 640x480 with 1 Axes>"
      ]
     },
     "metadata": {},
     "output_type": "display_data"
    }
   ],
   "source": [
    "import matplotlib.pyplot as plt\n",
    "\n",
    "# Plot the new room\n",
    "fig, ax = plt.subplots()\n",
    "door_x = new_room[0, 0]\n",
    "door_y = new_room[0, 1]\n",
    "room_width = new_room[0, 2]\n",
    "room_height = new_room[0, 3]\n",
    "ax.plot([door_x], [door_y], 'rx', markersize=10, label='Door')\n",
    "ax.plot([0, room_width], [0, 0], 'k-', linewidth=2)\n",
    "ax.plot([0, room_width], [room_height, room_height], 'k-', linewidth=2)\n",
    "ax.plot([0, 0], [0, room_height], 'k-', linewidth=2)\n",
    "ax.plot([room_width, room_width], [0, room_height], 'k-', linewidth=2)\n",
    "ax.set_xlim([0, door_x + room_width])\n",
    "ax.set_ylim([0, room_height])\n",
    "ax.set_xlabel('X')\n",
    "ax.set_ylabel('Y')\n",
    "ax.set_title('Predicted Room Layout')\n",
    "\n",
    "# Plot the predicted table locations\n",
    "for i in range(table_location.shape[1] // 2):\n",
    "    table_x = table_location[0, i*2]\n",
    "    table_y = table_location[0, i*2+1]\n",
    "    ax.plot(table_x, table_y, 'ro', label='Table')\n",
    "for i in range(len(predicted_chair_locations)):\n",
    "    chair_x = predicted_chair_locations[i][0]\n",
    "    chair_y = predicted_chair_locations[i][1]\n",
    "    ax.plot(chair_x, chair_y, 'bo', label='Chair')\n",
    "\n",
    "ax.legend()\n",
    "plt.show()\n"
   ]
  }
 ],
 "metadata": {
  "kernelspec": {
   "display_name": "Python3.7",
   "language": "python",
   "name": "python3.7"
  },
  "language_info": {
   "codemirror_mode": {
    "name": "ipython",
    "version": 3
   },
   "file_extension": ".py",
   "mimetype": "text/x-python",
   "name": "python",
   "nbconvert_exporter": "python",
   "pygments_lexer": "ipython3",
   "version": "3.9.12"
  },
  "orig_nbformat": 4
 },
 "nbformat": 4,
 "nbformat_minor": 2
}
